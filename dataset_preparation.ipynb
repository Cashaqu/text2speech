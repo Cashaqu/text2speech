{
 "cells": [
  {
   "cell_type": "code",
   "execution_count": null,
   "id": "1c458c11-e756-400d-b074-34452cc0cd17",
   "metadata": {},
   "outputs": [],
   "source": [
    "# rsync wavs files to directory\n",
    "# !rsync -rv /home/kda/Black_Tower/Besplodnye\\ Zemli/wavs/*/*.wav /home/kda/Black_Tower/bt_all/ \n",
    "# !rsync -rv /home/kda/Black_Tower/Koldun\\ i\\ kristall/wavs/*/*.wav /home/kda/Black_Tower/bt_all/ "
   ]
  },
  {
   "cell_type": "code",
   "execution_count": 24,
   "id": "22e4a6e8-d098-4946-bd23-dfade194c01e",
   "metadata": {},
   "outputs": [],
   "source": [
    "# libraries\n",
    "import os\n",
    "import glob\n",
    "import shutil\n",
    "import numpy as np\n",
    "import pandas as pd"
   ]
  },
  {
   "cell_type": "code",
   "execution_count": 2,
   "id": "89e6e666-96a5-4b5b-ba4e-b8d543a35464",
   "metadata": {},
   "outputs": [],
   "source": [
    "# creating txt-file with unified transcriptions \n",
    "directory = '/home/kda/Black_Tower/bt_all/text/'\n",
    "output_file = '/home/kda/Black_Tower/bt_all/text_all.txt'\n",
    "\n",
    "# Copy the contents of each text file to the output file\n",
    "for file in sorted(glob.glob(os.path.join(directory, '*.txt'))):\n",
    "    with open(file, 'r') as f:\n",
    "        shutil.copyfileobj(f, open(output_file, 'a'))\n",
    "\n",
    "# Close the output file\n",
    "open(output_file, 'a').close()"
   ]
  },
  {
   "cell_type": "code",
   "execution_count": 25,
   "id": "f8252db2-3a22-4ebc-903e-d627c9933d79",
   "metadata": {
    "scrolled": true
   },
   "outputs": [],
   "source": [
    "# creating sorted list of wav-filenames\n",
    "names = [os.path.basename(x) for x in glob.glob('/home/kda/Black_Tower/bt_all/wavs/*')]\n",
    "names_sorted = list(map(lambda st: str.replace(st, \".wav\", \"\"), names))\n",
    "names_sorted.sort()"
   ]
  },
  {
   "cell_type": "code",
   "execution_count": 26,
   "id": "e462a748-1e2c-4f70-8bb6-1e57913823cd",
   "metadata": {},
   "outputs": [],
   "source": [
    "# get transcrypt each wavs to list\n",
    "def load(fname):\n",
    "    f = open(fname,'r')\n",
    "    data = []\n",
    "    for line in f.readlines():\n",
    "        # data.append(line.replace('\\n','').split(' '))\n",
    "        data.append(line.replace('\\n',''))\n",
    "    f.close()\n",
    "    return data\n",
    "    \n",
    "transcript = load('/home/kda/Black_Tower/bt_all/text_all.txt')"
   ]
  },
  {
   "cell_type": "code",
   "execution_count": 28,
   "id": "1c157808-228d-41d5-9f72-5b8074d5f108",
   "metadata": {},
   "outputs": [],
   "source": [
    "# concat to format:\n",
    "# ...\n",
    "# <wav_name_1>|<wav_transcript_1>\n",
    "# <wav_name_2>|<wav_transcript_2>\n",
    "# ...\n",
    "c = zip(names_sorted, transcript)\n",
    "\n",
    "with open(\"/home/kda/Black_Tower/bt_all/metadata.txt\", 'w') as outfile:\n",
    "    for elem in c:\n",
    "        outfile.write(str(elem[0]) + \"|\" + elem[1] +\"\\n\")"
   ]
  }
 ],
 "metadata": {
  "kernelspec": {
   "display_name": "Python 3 (ipykernel)",
   "language": "python",
   "name": "python3"
  },
  "language_info": {
   "codemirror_mode": {
    "name": "ipython",
    "version": 3
   },
   "file_extension": ".py",
   "mimetype": "text/x-python",
   "name": "python",
   "nbconvert_exporter": "python",
   "pygments_lexer": "ipython3",
   "version": "3.10.12"
  }
 },
 "nbformat": 4,
 "nbformat_minor": 5
}
